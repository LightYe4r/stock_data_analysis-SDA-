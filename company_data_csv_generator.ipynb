{
 "cells": [
  {
   "cell_type": "code",
   "execution_count": 1,
   "id": "095bb34e",
   "metadata": {},
   "outputs": [],
   "source": [
    "import FinanceDataReader as fdr\n",
    "import requests\n",
    "import pandas as pd\n",
    "from bs4 import BeautifulSoup\n",
    "import re"
   ]
  },
  {
   "cell_type": "code",
   "execution_count": 2,
   "id": "3a288527",
   "metadata": {},
   "outputs": [],
   "source": [
    "with open('./csv_origin/only_code.csv', 'r') as f:\n",
    "    code_data = f.readlines()\n",
    "    tmp = []\n",
    "    for line in code_data:\n",
    "        tmp.extend(line.split(','))  # 각 라인을 쉼표로 분할하여 tmp 리스트에 추가합니다.\n",
    "    code_data = tmp\n",
    "\n",
    "for code in code_data:\n",
    "    url = 'http://comp.fnguide.com/SVO2/ASP/SVD_Main.asp?pGB=1&gicode='+code[:-1]+'&cID=&MenuYn=Y&ReportGB=&NewMenuID=101&stkGb=701'\n",
    "    response = requests.get(url)\n",
    "    html_content = response.text\n",
    "    soup = BeautifulSoup(html_content, 'html.parser')\n",
    "\n",
    "    data = []\n",
    "    table = soup.find(id = 'highlight_B_Q')\n",
    "    \n",
    "    header = table.text.strip()\n",
    "    header_text = header.split(',')\n",
    "\n",
    "    headers = []\n",
    "    for item in header_text:\n",
    "        cleaned_item = re.sub(r'\\(E\\) : Estimate\\n컨센서스 추정치\\n', '', item)\n",
    "        headers.extend(re.findall(r'\\d{4}/\\d{2}', cleaned_item))\n",
    "    data.append(headers[:-3])\n",
    "    \n",
    "    for row in table.find('tbody').find_all('tr'):\n",
    "        tmp = [cell.text.strip() for cell in row.find_all('td')]\n",
    "        data.append(tmp[:-3])\n",
    "\n",
    "    columns = [th.text.strip() for th in table.find('tbody').find_all('th')]\n",
    "    columns.insert(0, 'net quarter')\n",
    "\n",
    "    df = pd.DataFrame(data, columns)\n",
    "    df=df.transpose()\n",
    "    \n",
    "    df.to_csv('./data_csv/'+code[:-1]+'.csv', index=False)"
   ]
  },
  {
   "cell_type": "code",
   "execution_count": null,
   "id": "16e5907c",
   "metadata": {},
   "outputs": [],
   "source": []
  }
 ],
 "metadata": {
  "kernelspec": {
   "display_name": "Python 3 (ipykernel)",
   "language": "python",
   "name": "python3"
  },
  "language_info": {
   "codemirror_mode": {
    "name": "ipython",
    "version": 3
   },
   "file_extension": ".py",
   "mimetype": "text/x-python",
   "name": "python",
   "nbconvert_exporter": "python",
   "pygments_lexer": "ipython3",
   "version": "3.11.7"
  }
 },
 "nbformat": 4,
 "nbformat_minor": 5
}
