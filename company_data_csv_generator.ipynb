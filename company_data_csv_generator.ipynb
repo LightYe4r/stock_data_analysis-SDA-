{
 "cells": [
  {
   "cell_type": "code",
   "execution_count": 1,
   "id": "095bb34e",
   "metadata": {},
   "outputs": [
    {
     "name": "stdout",
     "output_type": "stream",
     "text": [
      "{'자람테크놀로지': '389020', 'GST': '083450', '시그네틱스': '033170', '넥스트칩': '396270', '엑시콘': '092870', '유니테스트': '086390', '테크윙': '089030', '유니셈': '036200', '티이엠씨': '425040', '한솔아이원스': '114810', '에이직랜드': '445090', '큐엠씨': '136660', '타이거일렉': '219130', '네패스아크': '330860', '텔레칩스': '054450', '와이아이케이': '232140', '티엘비': '356860', '큐알티': '405100', '지앤비에스 에코': '382800', '퀄리타스반도체': '432720', '예스티': '122640', '네오셈': '253590', '디아이': '003160', '코스텍시스템': '169670', '제우스': '079370', '아이텍': '119830', '하나마이크론': '067310', '에프에스티': '036810', '에이디테크놀로지': '200710', '미래산업': '025560', '유니퀘스트': '077500', '피에스케이': '319660', 'ISC': '095340', '아이엠티': '451220', '그린리소스': '402490', '코미코': '183300', '가온칩스': '399720', '엠케이전자': '033160', '신성이엔지': '011930', '디엔에프': '092070', '다원넥스뷰': '323350', '티씨케이': '064760', '티엘엔지니어링': '413300', '두산테스나': '131970', '아진엑스텍': '059120', '로체시스템즈': '071280', 'KEC': '092220', '오션브릿지': '241790', '제이엔비': '452160', '지오엘리먼트': '311320', '에이엘티': '172670', '네패스': '033640', '오픈엣지테크놀로지': '394280', '워트': '396470', 'HPSP': '403870', '오킨스전자': '080580', '솔브레인': '357780', '칩스앤미디어': '094360', '엘티씨': '170920', '와이씨켐': '112290', '퓨릿': '445180', '싸이맥스': '160980', '저스템': '417840', '유니트론텍': '142210', 'LB세미콘': '061970', '피에스케이홀딩스': '031980', '원익QnC': '074600', '티에프이': '425420', '동진쎄미켐': '005290', '프로텍': '053610', '샘씨엔에스': '252990', '동운아나텍': '094170', '삼성전자': '005930', '비씨엔씨': '146320', '에이피티씨': '089970', '마이크로컨텍솔': '098120', '아이앤씨': '052860', 'SFA반도체': '036540', '레이저쎌': '412350', '엘오티베큠': '083310', '월덱스': '101160', '에이팩트': '200470', 'KX하이텍': '052900', '기가비스': '420770', '피엠티': '147760', '엑사이엔씨': '054940', '지니틱스': '303030', '덕산하이메탈': '077360', '원익IPS': '240810', 'LB루셈': '376190', '주성엔지니어링': '036930', '에스티아이': '039440', '케이알엠': '093640', '한양디지텍': '078350', 'DB하이텍': '000990', '삼성전자우': '005935', '한미반도체': '042700', '에이티세미콘': '089530', '알에프세미': '096610', '알파홀딩스': '117670', '스마트솔루션즈': '136510', '아이케이세미콘': '149010', 'NPX': '222160', '미래반도체': '254490', '씨앤지하이테크': '264660', '한국전자홀딩스': '006200', '에스앤에스텍': '101490', '라온테크': '232680', '유진테크': '084370', '티에스이': '131290', '제이아이테크': '417500', '마이크로투나노': '424980', '픽셀플러스': '087600', '엔시트론': '101400', '러셀': '217500', '제이티': '089790', '뉴파워프라즈마': '144960', '넥스틴': '348210', '메카로': '241770', '케이엔더블유': '105330', '이엔에프테크놀로지': '102710', '엔투텍': '227950', '코세스': '089890', '매커스': '093520', '해성디에스': '195870', '젬백스': '082270', '램테크놀러지': '171010', '제주반도체': '080220', '성우테크론': '045300', '비케이홀딩스': '050090', '파두': '440110', 'HLB이노베이션': '024850', '큐에스아이': '066310', '이오테크닉스': '039030', '오로스테크놀로지': '322310', '원익홀딩스': '030530', '하나머티리얼즈': '166090', '코스텍시스': '355150', '케이씨': '029460', '리노공업': '058470', 'SK하이닉스': '000660', '네온테크': '306620', '시지트로닉스': '429270', '오디텍': '080520', 'SK스퀘어': '402340', '테크엘': '064520', '인텍플러스': '064290', '라온텍': '418420', '사피엔반도체': '452430', '테스': '095610', '윈팩': '097800', '서플러스글로벌': '140070', '어보브반도체': '102120', '더코디': '224060', '피델릭스': '032580', '제너셈': '217190', '하이딥': '365590', '아이윈플러스': '123010', '케이씨텍': '281820', '미코': '059090'}\n"
     ]
    }
   ],
   "source": [
    "import FinanceDataReader as fdr\n",
    "import requests\n",
    "import pandas as pd\n",
    "from bs4 import BeautifulSoup\n",
    "import re\n",
    "import matplotlib\n",
    "import matplotlib.pyplot as plt\n",
    "import matplotlib.font_manager as fm\n",
    "import numpy as np\n",
    "fname = 'C:\\Windows\\Fonts\\malgun.ttf'\n",
    "font_name = fm.FontProperties(fname=fname).get_name()\n",
    "matplotlib.rc('font', family = font_name)\n",
    "\n",
    "def get_stockdata(stock_code):\n",
    "    global stock_data\n",
    "    # 개장하지 않은 날 0인 데이터를 전 날 데이터로 채움\n",
    "    stock_data[stock_code].replace(0,np.nan,inplace=True)\n",
    "    stock_data[stock_code] = stock_data[stock_code].ffill()\n",
    "    return stock_data[stock_code]\n",
    "\n",
    "stock = {}\n",
    "with open('네이버증권_반도체종목.txt','r', encoding='UTF-8') as f:\n",
    "  lines = f.readlines()\n",
    "  for idx, line in enumerate(lines[::6]):\n",
    "    stock[line.strip()] = lines[idx*6+1].strip()\n",
    "print(stock)\n",
    "\n",
    "stock_data = {}\n",
    "def downlaod_stockdata():\n",
    "  global stock_data\n",
    "  for value in stock.values():\n",
    "    df = fdr.DataReader(value)\n",
    "    stock_data[value] = df\n",
    "\n",
    "krx = fdr.StockListing('KRX')\n",
    "downlaod_stockdata()"
   ]
  },
  {
   "cell_type": "code",
   "execution_count": 2,
   "id": "3a288527",
   "metadata": {},
   "outputs": [],
   "source": [
    "with open('./csv_origin/only_code.csv', 'r') as f:\n",
    "    code_data = f.readlines()\n",
    "    tmp = []\n",
    "    for line in code_data:\n",
    "        tmp.extend(line.split(','))  # 각 라인을 쉼표로 분할하여 tmp 리스트에 추가합니다.\n",
    "    code_data = tmp\n",
    "\n",
    "for code in code_data:\n",
    "    url = 'http://comp.fnguide.com/SVO2/ASP/SVD_Main.asp?pGB=1&gicode='+code[:-1]+'&cID=&MenuYn=Y&ReportGB=&NewMenuID=101&stkGb=701'\n",
    "    response = requests.get(url)\n",
    "    html_content = response.text\n",
    "    soup = BeautifulSoup(html_content, 'html.parser')\n",
    "\n",
    "    data = []\n",
    "    table = soup.find(id = 'highlight_B_Q')\n",
    "    \n",
    "    header = table.text.strip()\n",
    "    header_text = header.split(',')\n",
    "\n",
    "    headers = []\n",
    "    for item in header_text:\n",
    "        cleaned_item = re.sub(r'\\(E\\) : Estimate\\n컨센서스 추정치\\n', '', item)\n",
    "        headers.extend(re.findall(r'\\d{4}/\\d{2}', cleaned_item))\n",
    "    data.append(headers[:-3])\n",
    "    \n",
    "    for row in table.find('tbody').find_all('tr'):\n",
    "        tmp = [cell.text.strip() for cell in row.find_all('td')]\n",
    "        data.append(tmp[:-3])\n",
    "\n",
    "    columns = [th.text.strip() for th in table.find('tbody').find_all('th')]\n",
    "    columns.insert(0, 'net quarter')\n",
    "\n",
    "    df = pd.DataFrame(data, columns)\n",
    "    df=df.transpose()\n",
    "    \n",
    "    # df.to_csv('./data_csv/'+code[:-1]+'.csv', index=False)"
   ]
  },
  {
   "cell_type": "code",
   "execution_count": 3,
   "id": "16e5907c",
   "metadata": {
    "scrolled": true
   },
   "outputs": [
    {
     "name": "stdin",
     "output_type": "stream",
     "text": [
      "code input(ex: A123456):  A389020\n"
     ]
    },
    {
     "name": "stdout",
     "output_type": "stream",
     "text": [
      "['매출액', '영업이익', '영업이익(발표기준)', '당기순이익', '자산총계', '부채총계', '자본총계', '자본금', '부채비율(%)', '유보율(%)', '영업이익률(%)', '순이익률(%)', 'ROA(%)', 'ROE(%)', 'EPS', 'BPS', 'DPS', 'PER', 'PBR', '발행주식수', '배당수익률']\n"
     ]
    },
    {
     "name": "stdin",
     "output_type": "stream",
     "text": [
      "input cloumns:  매출액\n"
     ]
    },
    {
     "name": "stdout",
     "output_type": "stream",
     "text": [
      "['매출액']\n",
      "['매출액', '영업이익', '영업이익(발표기준)', '당기순이익', '자산총계', '부채총계', '자본총계', '자본금', '부채비율(%)', '유보율(%)', '영업이익률(%)', '순이익률(%)', 'ROA(%)', 'ROE(%)', 'EPS', 'BPS', 'DPS', 'PER', 'PBR', '발행주식수', '배당수익률']\n"
     ]
    },
    {
     "name": "stdin",
     "output_type": "stream",
     "text": [
      "input cloumns:  매출액\n"
     ]
    },
    {
     "name": "stdout",
     "output_type": "stream",
     "text": [
      "selected columns detected!, next steps\n"
     ]
    }
   ],
   "source": [
    "company_code = input(\"code input(ex: A123456): \")\n",
    "option_columns = [\"매출액\", \"영업이익\", \"영업이익(발표기준)\", \"당기순이익\", \"자산총계\", \"부채총계\", \"자본총계\", \"자본금\", \"부채비율(%)\", \"유보율(%)\", \"영업이익률(%)\", \"순이익률(%)\", \"ROA(%)\", \"ROE(%)\", \"EPS\", \"BPS\", \"DPS\", \"PER\", \"PBR\", \"발행주식수\", \"배당수익률\"]\n",
    "selected_columns = []\n",
    "\n",
    "while True:\n",
    "    print(option_columns)\n",
    "    tmp = (input('input cloumns: '))\n",
    "    if(tmp not in option_columns):\n",
    "        print(\"Wrong option\")\n",
    "        continue\n",
    "    else:\n",
    "        if(tmp in selected_columns):\n",
    "            print(\"selected columns detected!, next steps\")\n",
    "            break\n",
    "        else:\n",
    "            selected_columns.append(tmp)\n",
    "            print(selected_columns)\n",
    "\n",
    "x_axis = []\n",
    "y_axis = {}\n",
    "refine = []\n",
    "with open('./data_csv/'+company_code+'.csv', 'r', encoding='UTF-8') as f:\n",
    "    data = f.readlines()\n",
    "    for line in data:\n",
    "        tmp = line.split(',')\n",
    "        refine.append(tmp)\n",
    "for i in refine[1:]:\n",
    "    x_axis.append(i[0])\n",
    "for i in selected_columns:\n",
    "    num = refine[0].index(i)\n",
    "    tmp = []\n",
    "    for j in refine[1:]:\n",
    "        tmp.append(j[num])\n",
    "    y_axis[i] = tmp\n",
    "\n"
   ]
  },
  {
   "cell_type": "code",
   "execution_count": 35,
   "id": "05cb2197-43d2-4737-93f2-247ef179f698",
   "metadata": {
    "scrolled": true
   },
   "outputs": [
    {
     "data": {
      "text/html": [
       "<div>\n",
       "<style scoped>\n",
       "    .dataframe tbody tr th:only-of-type {\n",
       "        vertical-align: middle;\n",
       "    }\n",
       "\n",
       "    .dataframe tbody tr th {\n",
       "        vertical-align: top;\n",
       "    }\n",
       "\n",
       "    .dataframe thead th {\n",
       "        text-align: right;\n",
       "    }\n",
       "</style>\n",
       "<table border=\"1\" class=\"dataframe\">\n",
       "  <thead>\n",
       "    <tr style=\"text-align: right;\">\n",
       "      <th></th>\n",
       "      <th>매출액</th>\n",
       "      <th>주가</th>\n",
       "    </tr>\n",
       "  </thead>\n",
       "  <tbody>\n",
       "    <tr>\n",
       "      <th>매출액</th>\n",
       "      <td>1.000000</td>\n",
       "      <td>-0.901353</td>\n",
       "    </tr>\n",
       "    <tr>\n",
       "      <th>주가</th>\n",
       "      <td>-0.901353</td>\n",
       "      <td>1.000000</td>\n",
       "    </tr>\n",
       "  </tbody>\n",
       "</table>\n",
       "</div>"
      ],
      "text/plain": [
       "          매출액        주가\n",
       "매출액  1.000000 -0.901353\n",
       "주가  -0.901353  1.000000"
      ]
     },
     "execution_count": 35,
     "metadata": {},
     "output_type": "execute_result"
    }
   ],
   "source": [
    "selected_stock_data = get_stockdata(company_code[1:])\n",
    "tmp = []\n",
    "for i in x_axis:\n",
    "    price_data = selected_stock_data[i+'/01':i+'/01']['Close'].values\n",
    "    # 주가가 존재하면 리스트에 첫 번째 값을, 없으면 None 추가\n",
    "    if len(price_data) > 0:\n",
    "        tmp.append(int(price_data[0]))\n",
    "    else:\n",
    "        tmp.append(None)\n",
    "        \n",
    "y_axis['주가'] = tmp\n",
    "y_axis_df = pd.DataFrame(y_axis)\n",
    "y_axis_df.corr()"
   ]
  },
  {
   "cell_type": "code",
   "execution_count": null,
   "id": "919c95af-2350-48bd-ad3b-1bdb82c4df69",
   "metadata": {
    "scrolled": true
   },
   "outputs": [],
   "source": [
    "# 전체 그림 크기 설정 (가로 20, 세로 20)\n",
    "plt.figure(figsize=(10, 10))\n",
    "\n",
    "# 서브플롯 생성\n",
    "index = 1\n",
    "for i in selected_columns:\n",
    "    plt.subplot(len(selected_columns), 1, index)  # 선택된 열의 개수만큼의 서브플롯 생성\n",
    "    plt.plot(x_axis, y_axis[i])\n",
    "    plt.ylabel(i)\n",
    "    index += 1\n",
    "\n",
    "# 그래프 여백 조정\n",
    "plt.tight_layout()\n",
    "\n",
    "# 그래프 표시\n",
    "plt.show()"
   ]
  },
  {
   "cell_type": "code",
   "execution_count": null,
   "id": "65979b2d-6f47-4996-bbf7-95d720a4ca76",
   "metadata": {},
   "outputs": [],
   "source": []
  }
 ],
 "metadata": {
  "kernelspec": {
   "display_name": "Python 3 (ipykernel)",
   "language": "python",
   "name": "python3"
  },
  "language_info": {
   "codemirror_mode": {
    "name": "ipython",
    "version": 3
   },
   "file_extension": ".py",
   "mimetype": "text/x-python",
   "name": "python",
   "nbconvert_exporter": "python",
   "pygments_lexer": "ipython3",
   "version": "3.11.7"
  }
 },
 "nbformat": 4,
 "nbformat_minor": 5
}
