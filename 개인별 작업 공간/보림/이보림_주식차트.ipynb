{
  "nbformat": 4,
  "nbformat_minor": 0,
  "metadata": {
    "colab": {
      "provenance": [],
      "authorship_tag": "ABX9TyN3ggPPEpDBDm7PnPSf4Chn",
      "include_colab_link": true
    },
    "kernelspec": {
      "name": "python3",
      "display_name": "Python 3"
    },
    "language_info": {
      "name": "python"
    }
  },
  "cells": [
    {
      "cell_type": "markdown",
      "metadata": {
        "id": "view-in-github",
        "colab_type": "text"
      },
      "source": [
        "<a href=\"https://colab.research.google.com/github/LightYe4r/stock_data_analysis-SDA-/blob/master/%EC%9D%B4%EB%B3%B4%EB%A6%BC_%EC%A3%BC%EC%8B%9D%EC%B0%A8%ED%8A%B8.ipynb\" target=\"_parent\"><img src=\"https://colab.research.google.com/assets/colab-badge.svg\" alt=\"Open In Colab\"/></a>"
      ]
    },
    {
      "cell_type": "markdown",
      "source": [
        "아래 설치 후 런타임 재시작(세션 재시작)"
      ],
      "metadata": {
        "id": "KCI72lQKK5bf"
      }
    },
    {
      "cell_type": "code",
      "source": [
        "!sudo apt-get install -y fonts-nanum\n",
        "!sudo fc-cache -fv\n",
        "!rm ~/.cache/matplotlib -rf"
      ],
      "metadata": {
        "id": "HFIhTWgGFYcV"
      },
      "execution_count": null,
      "outputs": []
    },
    {
      "cell_type": "markdown",
      "source": [
        "# 네이버 증권에서 반도체 관련 종목 가져오기"
      ],
      "metadata": {
        "id": "OtV3vuc2K0rf"
      }
    },
    {
      "cell_type": "code",
      "source": [
        "stock = {}\n",
        "with open('/content/drive/MyDrive/Colab Notebooks/반도체주식/네이버증권_반도체종목.txt','r') as f:\n",
        "  lines = f.readlines()\n",
        "  print(lines)\n",
        "  for idx, line in enumerate(lines[::6]):\n",
        "    stock[line.strip()] = lines[idx*6+1].strip()\n",
        "print(stock)"
      ],
      "metadata": {
        "id": "rCkcsdZ6K77m"
      },
      "execution_count": null,
      "outputs": []
    },
    {
      "cell_type": "code",
      "source": [
        "print(len(stock))"
      ],
      "metadata": {
        "id": "W0vjkzcXBFLP"
      },
      "execution_count": null,
      "outputs": []
    },
    {
      "cell_type": "code",
      "execution_count": null,
      "metadata": {
        "id": "zBGxfv3PFqca"
      },
      "outputs": [],
      "source": [
        "!pip install finance-datareader\n",
        "!pip install beautifulsoup4\n",
        "!pip install matplotlib\n",
        "!pip install pandas_ta\n",
        "!pip install plotly==5.11.0"
      ]
    },
    {
      "cell_type": "code",
      "source": [
        "import FinanceDataReader as fdr\n",
        "import pandas_ta as ta\n",
        "import matplotlib.pyplot as plt\n",
        "plt.rc('font', family='NanumBarunGothic')\n",
        "from matplotlib import gridspec\n",
        "import pandas as pd\n",
        "from datetime import datetime\n",
        "import plotly.graph_objects as go\n",
        "import plotly.graph_objects as px\n",
        "from plotly.subplots import make_subplots"
      ],
      "metadata": {
        "id": "PC_P8HiVZp5y"
      },
      "execution_count": null,
      "outputs": []
    },
    {
      "cell_type": "code",
      "source": [
        "krx = fdr.StockListing('KRX')"
      ],
      "metadata": {
        "id": "sT3mR8CIbl67"
      },
      "execution_count": null,
      "outputs": []
    },
    {
      "cell_type": "code",
      "source": [
        "buttons = []\n",
        "for val in stock.keys():\n",
        "  button = dict()\n",
        "  button['args'] = ['type',val]\n",
        "  button['label'] = val\n",
        "  button['method'] = 'update'\n",
        "  buttons.append(button)"
      ],
      "metadata": {
        "id": "gIy2drUc9_FR"
      },
      "execution_count": null,
      "outputs": []
    },
    {
      "cell_type": "code",
      "source": [
        "def get_stockdata(stock_code):\n",
        "  stock_data = fdr.DataReader(stock_code)\n",
        "  return stock_data\n",
        "\n",
        "def match_dfshape(df, start_date, end_date):\n",
        "    # 주어진 기간 동안의 모든 날짜 생성\n",
        "    expected_dates = pd.date_range(start=start_date, end=end_date)\n",
        "\n",
        "    # 주식 DataFrame에 없는 날짜에 대한 데이터 생성\n",
        "    missing_dates_data = pd.DataFrame(index=expected_dates, columns=df.columns)\n",
        "\n",
        "    # 주식 DataFrame과 결합하여 결측치를 채움\n",
        "    filled_df = pd.concat([df, missing_dates_data]).sort_index()\n",
        "\n",
        "    filled_df.fillna(method='ffill', inplace=True)  # 이전 값으로 결측치 채우기\n",
        "    filled_df.fillna(0, inplace=True)\n",
        "    # 주어진 기간 동안의 데이터 추출\n",
        "    filtered_data = filled_df.loc[start_date:end_date]\n",
        "\n",
        "    return filtered_data\n",
        "\n",
        "def cal_sma_ema(df):\n",
        "  df['Change']=df['Close']-df['Open']\n",
        "  df.loc[df['Change']>=0,'Volumecolor']=1\n",
        "  df.loc[df['Change']<0,'Volumecolor']=0\n",
        "  df[['Change','Volumecolor']]\n",
        "\n",
        "  # 단순 이동평균\n",
        "  df.loc[:, 'SMA_20'] = ta.sma(df['Close'],length=20)\n",
        "  df.loc[:, 'SMA_60'] = ta.sma(df['Close'],length=60)\n",
        "\n",
        "  # 지수 이동평균\n",
        "  df.loc[:, 'EMA_20'] = ta.ema(df['Close'], 20)\n",
        "  df.loc[:, 'EMA_60'] = ta.ema(df['Close'], 60)\n",
        "  return df\n",
        "\n",
        "def draw_candlechart(df):\n",
        "  df['Change']=df['Close']-df['Open']\n",
        "  df.loc[df['Change']>=0,'Volumecolor']=1\n",
        "  df.loc[df['Change']<0,'Volumecolor']=0\n",
        "  df[['Change','Volumecolor']]\n",
        "  fig = make_subplots(rows=2,\n",
        "                      cols=1,\n",
        "                      shared_xaxes=True,\n",
        "                      )\n",
        "\n",
        "  fig = make_subplots(rows=2, cols=1)\n",
        "\n",
        "  fig.add_trace(\n",
        "      go.Candlestick(x=df.index,\n",
        "                  open=df['Open'],\n",
        "                  high=df['High'],\n",
        "                  low=df['Low'],\n",
        "                  close=df['Close'],\n",
        "                  increasing_line_color= 'red', decreasing_line_color= 'blue',\n",
        "                  name='주가'\n",
        "                  ),\n",
        "                  row=1, col=1\n",
        "  )\n",
        "\n",
        "  fig.add_trace(\n",
        "      go.Bar(x=df.index, y=df['Volume'],\n",
        "            marker=dict(color=df['Volumecolor'],colorscale='BlueRed'),\n",
        "            name='거래량'),\n",
        "      row=2, col=1\n",
        "  )\n",
        "\n",
        "  fig.update(layout_xaxis_rangeslider_visible=False)\n",
        "\n",
        "  fig.show()\n",
        "\n",
        "def draw_sma_ema(name,df):\n",
        "  df = cal_sma_ema(df)\n",
        "\n",
        "  fig = make_subplots(rows=2,\n",
        "                      cols=1,\n",
        "                      shared_xaxes=True,\n",
        "                      vertical_spacing=0.1)\n",
        "\n",
        "  fig = make_subplots(rows=2, cols=1)\n",
        "\n",
        "  fig.add_trace(\n",
        "      go.Candlestick(x=df.index,\n",
        "                  open=df['Open'],\n",
        "                  high=df['High'],\n",
        "                  low=df['Low'],\n",
        "                  close=df['Close'],\n",
        "                  increasing_line_color= 'red', decreasing_line_color= 'blue',\n",
        "                  name='주가'\n",
        "                  ),\n",
        "                  row=1, col=1\n",
        "  )\n",
        "\n",
        "  fig.add_trace(\n",
        "      go.Scatter(x=df.index, y=df['SMA_20'],\n",
        "                line=dict(color=\"#b66aa0\"),\n",
        "                name='SMA_20'),\n",
        "      row=1, col=1\n",
        "  )\n",
        "\n",
        "  fig.add_trace(\n",
        "      go.Scatter(x=df.index, y=df['SMA_60'],\n",
        "                line=dict(color=\"#414b73\"),\n",
        "                  name='SMA_60'),\n",
        "      row=1, col=1\n",
        "  )\n",
        "\n",
        "  fig.add_trace(\n",
        "      go.Scatter(x=df.index, y=df['EMA_20'],\n",
        "                line=dict(color=\"#8b8b8b\"),\n",
        "                  name='EMA_20'),\n",
        "      row=1, col=1\n",
        "  )\n",
        "\n",
        "\n",
        "  fig.add_trace(\n",
        "      go.Scatter(x=df.index, y=df['EMA_60'],\n",
        "                line=dict(color=\"#e8d887\"),\n",
        "                  name='EMA_60'),\n",
        "      row=1, col=1\n",
        "  )\n",
        "\n",
        "  fig.add_trace(\n",
        "      go.Bar(x=df.index, y=df['Volume'],\n",
        "            marker=dict(color=df['Volumecolor'],colorscale='BlueRed'),\n",
        "            name='거래량'),\n",
        "      row=2, col=1\n",
        "  )\n",
        "\n",
        "  fig.update(layout_xaxis_rangeslider_visible=False)\n",
        "  fig.update_layout(title_text=name)\n",
        "\n",
        "  fig.show()\n",
        "\n",
        "\n",
        "# RSI\n",
        "def draw_rsi(stock_name, stock_data):\n",
        "  stock_data.loc[:, 'RSI_14'] = ta.rsi(stock_data['Close'], length=14)\n",
        "  stock_data.loc[:, 'RSI_14'] = stock_data['RSI_14'].fillna(0)\n",
        "  fig = plt.subplots(figsize=(10, 6), sharex=True)\n",
        "  gs = gridspec.GridSpec(nrows=2, ncols=1, height_ratios=[2, 1])\n",
        "\n",
        "  # 주가 나타내기\n",
        "  ax1 = plt.subplot(gs[0])\n",
        "  ax1 = stock_data['Close'].plot()\n",
        "  ax1.set_xlabel('')\n",
        "  ax1.axes.xaxis.set_ticks([])\n",
        "  plt.title(stock_name)\n",
        "\n",
        "  # RSI 나타내기\n",
        "  ax2 = plt.subplot(gs[1])\n",
        "  ax2 = stock_data['RSI_14'].plot(color='black', ylim=[0, 100])\n",
        "  ax2.axhline(y=70, color='r', linestyle='-')\n",
        "  ax2.axhline(y=30, color='r', linestyle='-')\n",
        "  ax2.set_xlabel\n",
        "  plt.subplots_adjust(wspace=0, hspace=0)\n",
        "\n",
        "  plt.show()\n",
        "  return stock_data\n",
        "\n",
        "def draw_bbbands(stock_name, stock_data):\n",
        "  band = ta.bbands(stock_data[\"Close\"], length=20, std=2)\n",
        "  bb = pd.concat([band[['BBL_20_2.0', 'BBM_20_2.0', 'BBU_20_2.0']], stock_data['Close']], axis = 1)\n",
        "  bb.columns = ['Lower Band', 'Mid Band', 'Upper Band', 'Close']\n",
        "  bb.plot(figsize=(10, 6),\n",
        "          color={\n",
        "              'Upper Band': 'red',\n",
        "              'Lower Band': 'blue',\n",
        "              'Mid Band': 'green',\n",
        "              'Close': 'black'\n",
        "          })\n",
        "  plt.title(stock_name)\n",
        "  plt.show()"
      ],
      "metadata": {
        "id": "VWpSNbf0brFJ"
      },
      "execution_count": null,
      "outputs": []
    },
    {
      "cell_type": "markdown",
      "source": [
        "모든 반도체 종목에 대해 캔들차트 그리기"
      ],
      "metadata": {
        "id": "bi_iJPP78zOH"
      }
    },
    {
      "cell_type": "code",
      "source": [
        "name = '자람테크놀로지'\n",
        "draw_sma_ema(name,get_stockdata(stock[name]))"
      ],
      "metadata": {
        "id": "49EMn2L1BZdK"
      },
      "execution_count": null,
      "outputs": []
    },
    {
      "cell_type": "code",
      "source": [
        "# for name, value in stock.items():\n",
        "#   draw_bbbands(name,draw_rsi(name,draw_ema(name,draw_sma(name,match_dfshape(get_stockdata(value),'2021-01-01','2024-03-13')))))"
      ],
      "metadata": {
        "id": "M9zcxOP9Lgm3"
      },
      "execution_count": null,
      "outputs": []
    },
    {
      "cell_type": "code",
      "source": [],
      "metadata": {
        "id": "P3V2fCXYMUU7"
      },
      "execution_count": null,
      "outputs": []
    }
  ]
}