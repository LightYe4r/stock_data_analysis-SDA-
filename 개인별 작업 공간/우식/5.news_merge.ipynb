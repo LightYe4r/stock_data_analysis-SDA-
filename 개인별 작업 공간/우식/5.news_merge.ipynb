{
 "cells": [
  {
   "cell_type": "markdown",
   "id": "2694f4ed-d742-4f51-85ec-dbbfda89d7a2",
   "metadata": {},
   "source": [
    "# 크롤링 파일 합치기\n",
    "# 파일들의 리스트를 얻음\n",
    "# 각 파일을 DataFrame으로 읽은 후 리스트에 저장\n",
    "# 병합된 DataFrame을 CSV 파일로 저장\n"
   ]
  },
  {
   "cell_type": "code",
   "execution_count": null,
   "id": "c24a7b06-9d44-46a9-8964-a41077097607",
   "metadata": {},
   "outputs": [],
   "source": [
    "import pandas as pd\n",
    "import glob\n",
    "\n",
    "\n",
    "file_list = glob.glob(f'news_*.csv')\n",
    "\n",
    "dfs = [pd.read_csv(file) for file in file_list]\n",
    "\n",
    "merged_df = pd.concat(dfs, ignore_index=True)\n",
    "\n",
    "merged_df.to_csv(f'newslast.csv', encoding='utf-8-sig', index=False)"
   ]
  },
  {
   "cell_type": "code",
   "execution_count": null,
   "id": "3a5b2dae-2eac-4982-a312-3ef1db2e91f6",
   "metadata": {},
   "outputs": [],
   "source": []
  }
 ],
 "metadata": {
  "kernelspec": {
   "display_name": "Python 3 (ipykernel)",
   "language": "python",
   "name": "python3"
  },
  "language_info": {
   "codemirror_mode": {
    "name": "ipython",
    "version": 3
   },
   "file_extension": ".py",
   "mimetype": "text/x-python",
   "name": "python",
   "nbconvert_exporter": "python",
   "pygments_lexer": "ipython3",
   "version": "3.12.2"
  }
 },
 "nbformat": 4,
 "nbformat_minor": 5
}
