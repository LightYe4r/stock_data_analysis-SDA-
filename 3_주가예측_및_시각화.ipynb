{
  "cells": [
    {
      "cell_type": "markdown",
      "metadata": {
        "id": "view-in-github",
        "colab_type": "text"
      },
      "source": [
        "<a href=\"https://colab.research.google.com/github/LightYe4r/stock_data_analysis-SDA-/blob/master/3_%EC%A3%BC%EA%B0%80%EC%98%88%EC%B8%A1_%EB%B0%8F_%EC%8B%9C%EA%B0%81%ED%99%94.ipynb\" target=\"_parent\"><img src=\"https://colab.research.google.com/assets/colab-badge.svg\" alt=\"Open In Colab\"/></a>"
      ]
    },
    {
      "cell_type": "markdown",
      "source": [
        "❗ **Google Colab에서 실행해주세요!**"
      ],
      "metadata": {
        "id": "cfBkIfmiS1Fz"
      }
    },
    {
      "cell_type": "markdown",
      "metadata": {
        "id": "KCI72lQKK5bf"
      },
      "source": [
        "## 한글 폰트 설정\n",
        "✅ 한글 폰트를 위해 아래 설치 후 런타임 재시작(세션 재시작)\n",
        "\n",
        "\n",
        "## 모델 학습을 위한 GPU 설정\n",
        "✅ 런타임 > 런타임 유형변경 > T4 GPU > 저장"
      ]
    },
    {
      "cell_type": "code",
      "execution_count": null,
      "metadata": {
        "id": "HFIhTWgGFYcV"
      },
      "outputs": [],
      "source": [
        "!sudo apt-get install -y fonts-nanum\n",
        "!sudo fc-cache -fv\n",
        "!rm ~/.cache/matplotlib -rf"
      ]
    },
    {
      "cell_type": "markdown",
      "metadata": {
        "id": "OtV3vuc2K0rf"
      },
      "source": [
        "# 네이버 증권에서 반도체 관련 종목 가져오기"
      ]
    },
    {
      "cell_type": "markdown",
      "metadata": {
        "id": "4yffOweBjK5_"
      },
      "source": [
        "✅ Google Drive 마운트"
      ]
    },
    {
      "cell_type": "code",
      "source": [
        "from google.colab import drive\n",
        "drive.mount('/content/drive')"
      ],
      "metadata": {
        "id": "ir2rj6CY5Ap2"
      },
      "execution_count": null,
      "outputs": []
    },
    {
      "cell_type": "markdown",
      "source": [
        "✅ Google Drive에서 Colab Notebooks 폴더 > 반도체주식 폴더 업로드"
      ],
      "metadata": {
        "id": "UcuK__LkTnFF"
      }
    },
    {
      "cell_type": "code",
      "execution_count": null,
      "metadata": {
        "id": "rCkcsdZ6K77m"
      },
      "outputs": [],
      "source": [
        "stock = {}\n",
        "with open('/content/drive/MyDrive/Colab Notebooks/반도체주식/네이버증권_반도체종목.txt','r') as f:\n",
        "  lines = f.readlines()\n",
        "  print(lines)\n",
        "  for idx, line in enumerate(lines[::6]):\n",
        "    stock[line.strip()] = lines[idx*6+1].strip()\n",
        "print(stock)"
      ]
    },
    {
      "cell_type": "markdown",
      "source": [
        "- 총 159개의 회사"
      ],
      "metadata": {
        "id": "BzcZG4AXTojC"
      }
    },
    {
      "cell_type": "code",
      "execution_count": null,
      "metadata": {
        "id": "W0vjkzcXBFLP"
      },
      "outputs": [],
      "source": [
        "print(len(stock))"
      ]
    },
    {
      "cell_type": "markdown",
      "source": [
        "✅ 필요할 라이브러리 설치"
      ],
      "metadata": {
        "id": "cSCLKWqBRC6Y"
      }
    },
    {
      "cell_type": "code",
      "execution_count": null,
      "metadata": {
        "id": "zBGxfv3PFqca"
      },
      "outputs": [],
      "source": [
        "!pip install finance-datareader\n",
        "!pip install beautifulsoup4\n",
        "!pip install matplotlib\n",
        "!pip install pandas_ta\n",
        "!pip install plotly==5.11.0"
      ]
    },
    {
      "cell_type": "markdown",
      "source": [
        "✅ 필요한 라이브러리 임포트"
      ],
      "metadata": {
        "id": "Yv-2dEAmRG5L"
      }
    },
    {
      "cell_type": "code",
      "execution_count": null,
      "metadata": {
        "id": "PC_P8HiVZp5y"
      },
      "outputs": [],
      "source": [
        "import FinanceDataReader as fdr\n",
        "import pandas as pd\n",
        "import pandas_ta as ta\n",
        "import numpy as np\n",
        "from matplotlib import gridspec\n",
        "import matplotlib.pyplot as plt\n",
        "plt.rc('font', family='NanumBarunGothic')\n",
        "\n",
        "from datetime import datetime, date\n",
        "from dateutil.relativedelta import relativedelta\n",
        "import plotly.graph_objects as go\n",
        "from plotly.subplots import make_subplots"
      ]
    },
    {
      "cell_type": "markdown",
      "source": [
        "# pre-processing"
      ],
      "metadata": {
        "id": "N4B7XJRLTZ3D"
      }
    },
    {
      "cell_type": "markdown",
      "source": [
        "✅ FinanceDataReader 라이브러리에서 반도체 주가 데이터 가져오기\n",
        "\n",
        "✅ 휴장일 떄 0으로 들어간 데이터 -> NaN으로 변경\n",
        "\n",
        "✅ 결측치 이전값으로 채우고 남은 결측치는 0으로 설정\n",
        "\n",
        "\n",
        "```\n",
        "df.replace(0,np.nan,inplace=True)\n",
        "df = df.fillna(method='pad')\n",
        "df.fillna(0,inplace=True)\n",
        "stock_data[value] = df\n",
        "```\n",
        "\n"
      ],
      "metadata": {
        "id": "DeaplNt3RJxG"
      }
    },
    {
      "cell_type": "code",
      "execution_count": null,
      "metadata": {
        "id": "sT3mR8CIbl67"
      },
      "outputs": [],
      "source": [
        "stock_data = {}\n",
        "origin_data = {}\n",
        "def downlaod_stockdata():\n",
        "  global stock_data\n",
        "  for value in stock.values():\n",
        "    df = fdr.DataReader(value)\n",
        "    df.replace(0,np.nan,inplace=True)\n",
        "    df = df.fillna(method='pad')\n",
        "    #df = df.fillna(method='backfill')\n",
        "    df.fillna(0,inplace=True)\n",
        "    stock_data[value] = df\n",
        "    origin_data[value] = df\n",
        "\n",
        "krx = fdr.StockListing('KRX')\n",
        "downlaod_stockdata()"
      ]
    },
    {
      "cell_type": "markdown",
      "source": [
        "# 재무제표와 합치기"
      ],
      "metadata": {
        "id": "vUo7PWyq-xq1"
      }
    },
    {
      "cell_type": "markdown",
      "source": [
        "- remove_comma(x) : 모든 데이터 타입에 대하여 x 안에 있는 쉼표제거\n",
        "- merge_files(col_name) : 재무제표 데이터 안에서 col_name에 해당하는 열 데이터를 주가 데이터프레임에 분기에 맞게 붙이기 (ex. 2023/06 이면 이전 분기~2023/06 안에 있는 모든 주가에 대해 같은 값)"
      ],
      "metadata": {
        "id": "SnyeIAF8R6ny"
      }
    },
    {
      "cell_type": "code",
      "source": [
        "file_path = '/content/drive/MyDrive/Colab Notebooks/반도체주식/data_csv/'\n",
        "def remove_comma(x):\n",
        "    if isinstance(x, str):\n",
        "        return x.replace(',', '')\n",
        "    else:\n",
        "        return str(x).replace(',', '')\n",
        "\n",
        "def merge_files(col_name):\n",
        "  global stock_data\n",
        "  for name, value in stock.items():\n",
        "    df = pd.read_csv(file_path+'A'+value+'.csv',header = 0,index_col=0)\n",
        "    stock_df = stock_data[value]\n",
        "\n",
        "    reverse_idx_date = ''\n",
        "    for idx, idx_date in enumerate(list(df.index)):\n",
        "      if idx == 0:\n",
        "        stock_df.loc[:datetime.strptime(idx_date,'%Y/%m')+relativedelta(months=1),col_name] = df.loc[idx_date,col_name]\n",
        "        reverse_idx_date = idx_date\n",
        "      elif idx_date == list(df.index)[-1] :\n",
        "        stock_df.loc[datetime.strptime(idx_date,'%Y/%m'):,col_name] = df.loc[idx_date,col_name]\n",
        "      else:\n",
        "        stock_df.loc[datetime.strptime(reverse_idx_date,'%Y/%m')+relativedelta(months=1):datetime.strptime(idx_date,'%Y/%m')+relativedelta(months=1),col_name] = df.loc[idx_date,col_name]\n",
        "        reverse_idx_date = idx_date\n",
        "    stock_data[value] = stock_df.applymap(remove_comma)\n",
        "    print(stock_data[value])\n"
      ],
      "metadata": {
        "id": "ryWBjKc1-1Ua"
      },
      "execution_count": null,
      "outputs": []
    },
    {
      "cell_type": "code",
      "source": [
        "ROA = 'ROA(%)(당기순이익(연율화) / 총자산(평균)) * 100ROA'\n",
        "ROE = 'ROE(%)(지배주주순이익(연율화) / 지배주주지분(평균)) * 100ROE'\n",
        "EPS = 'EPS(원)지배주주순이익 / 수정평균주식수EPS(원)'\n",
        "BPS = 'BPS(원)지배주주순자산(자사주차감전) / 수정기말주식수BPS(원)'\n",
        "PER = 'PER(배)수정주가(보통주) / 수정EPSPER'\n",
        "PBR = 'PBR(배)수정주가(보통주) / 수정BPSPBR'\n",
        "stock_num = '발행주식수'\n",
        "\n",
        "\n",
        "financial_statement_list = ['매출액','영업이익','당기순이익'\n",
        "                        ,'자산총계','부채총계','자본총계',ROA\n",
        "                            ,ROE,EPS,BPS,PER,PBR,stock_num]\n",
        "for f in financial_statement_list:\n",
        "  merge_files(f)"
      ],
      "metadata": {
        "id": "HeAhAJDEZml5"
      },
      "execution_count": null,
      "outputs": []
    },
    {
      "cell_type": "markdown",
      "metadata": {
        "id": "ZcHCdMtyx-T0"
      },
      "source": [
        "# 예측"
      ]
    },
    {
      "cell_type": "markdown",
      "source": [
        "## 예측을 위한 pre-processing"
      ],
      "metadata": {
        "id": "RU45S44jh6jr"
      }
    },
    {
      "cell_type": "markdown",
      "source": [
        "- drop_na(stock_code) :\n",
        "  - 재무제표 데이터 중에서 모든 분기에 대해서 아예 데이터가 없는 column 존재 -> 열 삭제\n",
        "  - 중간중간 존재하는 결측치는 다음 행의 값과 동일하게 설정\n",
        "\n",
        "- drop_volume(stock_code) : 주가 데이터 중 Volume(거래량)은 주가와 연관성 높은 column이기에 삭제"
      ],
      "metadata": {
        "id": "SJtLw3WlUqiJ"
      }
    },
    {
      "cell_type": "code",
      "source": [
        "def drop_na(stock_code):\n",
        "  global stock_data\n",
        "  stock_data[stock_code].replace('nan',np.nan,inplace=True)\n",
        "  stock_data[stock_code] =  stock_data[stock_code].dropna(axis=1,how='all').fillna(method='ffill').fillna(method='bfill')\n",
        "\n",
        "\n",
        "def drop_volume(stock_code):\n",
        "  stock_data[stock_code] =  stock_data[stock_code].drop('Volume', axis=1).replace('완전잠식','-500.00').astype(dtype='float')"
      ],
      "metadata": {
        "id": "M5lRR1qujUKi"
      },
      "execution_count": null,
      "outputs": []
    },
    {
      "cell_type": "markdown",
      "source": [
        "## 다음날 주가 예측"
      ],
      "metadata": {
        "id": "U-VzfA8CkkyZ"
      }
    },
    {
      "cell_type": "markdown",
      "source": [
        "✅ 주가 예측에 필요한 라이브러리 임포트"
      ],
      "metadata": {
        "id": "hfACDmYUW4j4"
      }
    },
    {
      "cell_type": "code",
      "source": [
        "import tensorflow as tf\n",
        "import keras\n",
        "import matplotlib.dates as mdates\n",
        "import xgboost as xgb\n",
        "from sklearn.preprocessing import MinMaxScaler\n",
        "from sklearn.model_selection import train_test_split, GridSearchCV\n",
        "from sklearn.metrics import mean_squared_error\n",
        "from sklearn.model_selection import cross_val_score, learning_curve\n",
        "from keras.regularizers import L1L2\n",
        "from tensorflow.keras.models import Sequential\n",
        "from tensorflow.keras.layers import LSTM, Dense, Dropout\n",
        "from tensorflow.keras.callbacks import EarlyStopping\n",
        "import warnings\n",
        "\n",
        "warnings.filterwarnings('ignore', category=UserWarning)"
      ],
      "metadata": {
        "id": "MZ6LB2HsJa4v"
      },
      "execution_count": null,
      "outputs": []
    },
    {
      "cell_type": "markdown",
      "source": [
        "⭐ STOCK_PREDCTION : 하나의 종목에 대한 주가 예측에 필요한 함수를 모아놓은 클래스\n",
        "  - make_feature_df() : 모델 학습 시 Close(종가)를 label(답), 이외의 칼럼들을 feature(모델입력값)로 새로운 데이터 프레임 생성\n",
        "  - make_sequene_dataset(feature, label, window_size) : window_size에 해당하는 날짜만큼의 데이터를 넣고 다음날 예측값을 정답으로 지정(ex. 30일 동안의 전체 데이터를 보고 다음날의 주식 종가(Close)를 예측)\n",
        "  - split_train_test() : 80 : 20으로 학습 데이터와 테스트 데이터 분리\n",
        "  - train() : 모델(LSTM), optimizer(Adam), early_stopping 정의 및 학습\n",
        "  - pred() : test 데이터로 예측\n",
        "  - draw_plot(pred) : pred(예측값)을 가지고 그래프 그리기 및 성능 확인\n",
        "  - pred_nextday(pred) : 다음날 주가 구하기"
      ],
      "metadata": {
        "id": "PeluK-IuX9BY"
      }
    },
    {
      "cell_type": "markdown",
      "source": [
        "> MAPE & MAE & RMSE\n",
        "- MAPE (Mean Absolute Percentage Error) : 예측값과 실제값 사이의 백분율 오차의 절대값의 평균을 나타내는 지표\n",
        "- MAE (Mean Absolute Error) : 예측값과 실제값 사이의 절대 오차의 평균\n",
        "- RMSE (Root Mean Square Error) : 예측값과 실제값 사이의 제곱 오차의 평균의 제곱근\n",
        "\n",
        "  MAPE는 백분율 오차를 고려하여 모델의 예측 정확도를 평가하는 데 유용하며,\n",
        "MAE는 각 예측 오차를 절대적으로 평가하므로 이해하기 쉽고 직관적이다. RMSE는 제곱 오차를 사용하여 예측 오차의 분산을 나타내므로, 큰 오차에 더 많은 페널티를 부여한다."
      ],
      "metadata": {
        "id": "kbnbTB7hdOjb"
      }
    },
    {
      "cell_type": "code",
      "source": [
        "class STOCK_PREDICTION:\n",
        "  def __init__(self, stock_name, stock_code):\n",
        "    global stock_data\n",
        "    self.stock_name = stock_name\n",
        "    self.stock_code = stock_code\n",
        "    self.window_size = 30\n",
        "\n",
        "    self.train_loss_history = []\n",
        "    self.val_loss_history = []\n",
        "    drop_na(self.stock_code)\n",
        "    try:\n",
        "      drop_volume(self.stock_code)\n",
        "    except:\n",
        "      print('이미 volume이 drop된 dataframe입니다.')\n",
        "\n",
        "    self.scaler = MinMaxScaler()\n",
        "\n",
        "\n",
        "  def make_feature_df(self):\n",
        "    self.scale_cols = stock_data[self.stock_code].columns.tolist()\n",
        "    self.scaled_df = self.scaler.fit_transform(stock_data[self.stock_code])\n",
        "    self.scaled_df = pd.DataFrame(self.scaled_df, columns=self.scale_cols)\n",
        "\n",
        "    feature_cols = stock_data[self.stock_code].columns.drop('Close').tolist()\n",
        "    label_cols = [ 'Close' ]\n",
        "\n",
        "    feature_df = pd.DataFrame(self.scaled_df, columns=feature_cols)\n",
        "    label_df = pd.DataFrame(self.scaled_df, columns=label_cols)\n",
        "\n",
        "    self.feature_np = feature_df.to_numpy()\n",
        "    self.label_np = label_df.to_numpy()\n",
        "\n",
        "    print(f'feature_np.shape:{self.feature_np.shape}')\n",
        "    print(f'label_np.shape:{self.label_np.shape}')\n",
        "\n",
        "  def make_sequene_dataset(self, feature, label, window_size):\n",
        "    feature_list = []\n",
        "    label_list = []\n",
        "    for i in range(len(feature)-window_size):\n",
        "        feature_list.append(feature[i:i+window_size])\n",
        "        label_list.append(label[i+window_size])\n",
        "    return np.array(feature_list), np.array(label_list)\n",
        "\n",
        "  def split_train_test(self):\n",
        "    X, Y = self.make_sequene_dataset(self.feature_np, self.label_np, self.window_size)\n",
        "\n",
        "    self.split = int(len(X)*0.80)\n",
        "    self.x_train = X[0:self.split]\n",
        "    self.y_train = Y[0:self.split]\n",
        "\n",
        "    self.x_test = X[self.split:]\n",
        "    self.y_test = Y[self.split:]\n",
        "\n",
        "    print(f'X.shape:{X.shape}, Y.shape:{Y.shape}')\n",
        "    print(f'x_train.shape:{self.x_train.shape}, y_train.shape:{self.y_train.shape}')\n",
        "    print(f'x_test.shape:{self.x_test.shape}, y_test.shape:{self.y_test.shape}')\n",
        "\n",
        "  def train(self):\n",
        "    self.model = Sequential()\n",
        "    self.model.add(LSTM(64, activation='tanh', input_shape=self.x_train[0].shape, return_sequences=False,\n",
        "                  kernel_regularizer=L1L2(l1=0.0001, l2=0.0001), recurrent_regularizer=L1L2(l1=0.0001, l2=0.0001)))\n",
        "    self.model.add(Dropout(0.2))\n",
        "    self.model.add(Dense(1, activation='linear'))\n",
        "\n",
        "    optimizer = keras.optimizers.Adam(learning_rate=0.01)\n",
        "    self.model.compile(loss='mse', optimizer=optimizer, metrics=['mae'])\n",
        "    self.model.summary()\n",
        "\n",
        "    early_stop = tf.keras.callbacks.EarlyStopping(monitor='val_loss', patience=10)\n",
        "\n",
        "    self.hist = self.model.fit(self.x_train, self.y_train,\n",
        "              validation_data=(self.x_test, self.y_test),\n",
        "              epochs=1000, batch_size=150,\n",
        "              callbacks=[early_stop])\n",
        "\n",
        "  def pred(self):\n",
        "    return self.model.predict(self.x_test)\n",
        "\n",
        "  def draw_plot(self, pred):\n",
        "    plt.figure(figsize=(12, 6))\n",
        "    plt.title(f'{self.stock_name} Prediction model')\n",
        "    plt.ylabel('Close')\n",
        "    plt.xlabel('period')\n",
        "    plt.plot(self.y_test, label='actual')\n",
        "    plt.plot(pred, label='prediction')\n",
        "    plt.grid()\n",
        "    plt.legend(loc='best')\n",
        "    plt.show()\n",
        "\n",
        "    self.train_loss_history.extend(self.hist.history['loss'])\n",
        "    self.val_loss_history.extend(self.hist.history['val_loss'])\n",
        "\n",
        "    plt.figure(figsize=(12, 6))\n",
        "    plt.plot(self.train_loss_history, label='Training Loss')\n",
        "    plt.plot(self.val_loss_history, label='Validation Loss')\n",
        "    plt.legend()\n",
        "    plt.title('Loss History')\n",
        "    plt.xlabel('Epochs')\n",
        "    plt.ylabel('Loss')\n",
        "    plt.show()\n",
        "\n",
        "    mape = np.sum(abs(self.y_test - pred) / self.y_test) / len(self.x_test)\n",
        "    mae = np.mean(np.abs(self.y_test - pred))\n",
        "    rmse = np.sqrt(np.mean(np.square(self.y_test - pred)))\n",
        "\n",
        "    metrics_df = pd.DataFrame({\n",
        "        'Metrics': ['MAPE', 'MAE', 'RMSE'],\n",
        "        'Values': [mape, mae, rmse]})\n",
        "\n",
        "    print(metrics_df)\n",
        "\n",
        "  def pred_nextday(self, pred):\n",
        "    inverse_df = pd.DataFrame(np.zeros((len(self.y_test), len(self.scale_cols))), columns=self.scale_cols)\n",
        "    inverse_df['Close'] = self.y_test.flatten()\n",
        "    real_y_test = self.scaler.inverse_transform(inverse_df)[:, inverse_df.columns.get_loc('Close')]\n",
        "\n",
        "    inverse_df['Close'] = pred.flatten()\n",
        "    real_pred = self.scaler.inverse_transform(inverse_df)[:, inverse_df.columns.get_loc('Close')]\n",
        "\n",
        "    dates = stock_data[self.stock_code].index[self.split+self.window_size:].values\n",
        "\n",
        "    tech_result_df = pd.DataFrame({\n",
        "        'Date': dates,\n",
        "        'Real Price': real_y_test,\n",
        "        'Predicted Price': real_pred\n",
        "    })\n",
        "\n",
        "    last_date = pd.to_datetime(stock_data[self.stock_code].index[-1])\n",
        "\n",
        "    if last_date.weekday() == 4:\n",
        "        next_day = last_date + pd.Timedelta(days=3)\n",
        "    else:\n",
        "        next_day = last_date + pd.Timedelta(days=1)\n",
        "\n",
        "    recent_feature = self.feature_np[-self.window_size:]\n",
        "    recent_feature = recent_feature.reshape(1, self.window_size, -1)\n",
        "\n",
        "    predicted_new = self.model.predict(recent_feature)\n",
        "\n",
        "    dummy_data = np.zeros((1, self.scaled_df.shape[1] - 1))\n",
        "    predicted_new_full_features = np.hstack([predicted_new, dummy_data])\n",
        "\n",
        "    pred_next_day = self.scaler.inverse_transform(predicted_new_full_features)[0, 0]\n",
        "\n",
        "    print(f\"{self.stock_name}의 현재 주가 : {stock_data[self.stock_code]['Close'][-1]}\\t 다음날 예상 주가 : {pred_next_day}\")\n",
        "    return stock_data[self.stock_code]['Close'][-1], pred_next_day\n"
      ],
      "metadata": {
        "id": "h7uKu9kYmgYo"
      },
      "execution_count": null,
      "outputs": []
    },
    {
      "cell_type": "markdown",
      "source": [
        "### 반도체 종목들을 하나씩 학습 후 예측하여 diff_stock.txt에 저장\n",
        "❗ GPU 사용량이 많아 중간에 끊길 확률이 크다.\n",
        "\n",
        "❗ start를 계속 바꾸면서 여러 단계 끊어 돌릴 수 있다.\n",
        "\n",
        "❗ 한 번에 돌리고 싶으면 주석을 해제하고 아래 for문을 주석처리하면 된다."
      ],
      "metadata": {
        "id": "d22Z3FWo821c"
      }
    },
    {
      "cell_type": "code",
      "source": [
        "diff_stock = []\n",
        "\n",
        "start = 0\n",
        "batch = 10\n",
        "\n",
        "with open('diff_stock.txt','a') as f:\n",
        "  #for name, value in stock.items():\n",
        "  for name, value in list(stock.items())[start:start+batch]:\n",
        "    stock_pred = STOCK_PREDICTION(name,value)\n",
        "    stock_pred.make_feature_df()\n",
        "    stock_pred.split_train_test()\n",
        "    stock_pred.train()\n",
        "    pred = stock_pred.pred()\n",
        "    stock_pred.draw_plot(pred)\n",
        "    today, nextday = stock_pred.pred_nextday(pred)\n",
        "    now = [str(nextday), str(today), str(float(nextday)-float(today)),str(name),str(value)]\n",
        "    diff_stock.append(now)\n",
        "    f.write(','.join(now))\n",
        "    f.write('\\n')\n"
      ],
      "metadata": {
        "id": "qGOVlh6mvkzJ"
      },
      "execution_count": null,
      "outputs": []
    },
    {
      "cell_type": "markdown",
      "source": [
        "✅ diff_stock을 읽어와 가장 많이 오른 순으로 정렬"
      ],
      "metadata": {
        "id": "cKHE3zZw97ZH"
      }
    },
    {
      "cell_type": "code",
      "source": [
        "diff_stock = []\n",
        "with open('diff_stock.txt','r') as f:\n",
        "  lines = f.readlines()\n",
        "  for line in lines:\n",
        "    #nextday, today, diff, name, value\n",
        "    diff_stock.append(line.split(','))\n",
        "diff_stock.sort(key = lambda x : x[2])"
      ],
      "metadata": {
        "id": "tKleN5Zc97CK"
      },
      "execution_count": null,
      "outputs": []
    },
    {
      "cell_type": "markdown",
      "source": [
        "✅ Top10 출력"
      ],
      "metadata": {
        "id": "BdPQnVSQJRGc"
      }
    },
    {
      "cell_type": "code",
      "source": [
        "diff_stock[:10]"
      ],
      "metadata": {
        "id": "Yb3pRaRjJNpl"
      },
      "execution_count": null,
      "outputs": []
    },
    {
      "cell_type": "markdown",
      "source": [
        "# visualization"
      ],
      "metadata": {
        "id": "syk4e3k8CuIm"
      }
    },
    {
      "cell_type": "markdown",
      "source": [
        "* match_dfshape(df, start_date, end_date) : start_date부터 end_date까지 데이터 프레임에서 추출\n",
        "* cal_sma_ema_rsi(df) : 각 지표에 대한 계산 및 그래프를 위한 새로운 칼럼 생성\n",
        "* draw_candlechart(df) : 주가 데이터 캔들차트 그리기\n",
        "* draw_sma_ema(name,df) : 이동평균 지표들과 주가 데이터 함께 보기\n",
        "* draw_rsi(stock_name, stock_data) : rsi 그래프 그리기\n",
        "* draw_bbbands(stock_name, stock_data) :"
      ],
      "metadata": {
        "id": "n6NW5lXv8Ibf"
      }
    },
    {
      "cell_type": "code",
      "execution_count": null,
      "metadata": {
        "id": "VWpSNbf0brFJ"
      },
      "outputs": [],
      "source": [
        "def match_dfshape(df, start_date, end_date):\n",
        "    expected_dates = pd.date_range(start=start_date, end=end_date)\n",
        "    missing_dates_data = pd.DataFrame(index=expected_dates, columns=df.columns)\n",
        "    filled_df = pd.concat([df, missing_dates_data]).sort_index()\n",
        "    filled_df.fillna(method='ffill', inplace=True)  # 이전 값으로 결측치 채우기\n",
        "    filled_df.fillna(0, inplace=True)\n",
        "    filtered_data = filled_df.loc[start_date:end_date]\n",
        "    return filtered_data\n",
        "\n",
        "def cal_sma_ema_rsi(df):\n",
        "  df['Change']=df['Close'].astype('float')-df['Open'].astype('float')\n",
        "  df.loc[df['Change']>=0,'Volumecolor']=1\n",
        "  df.loc[df['Change']<0,'Volumecolor']=0\n",
        "  df[['Change','Volumecolor']]\n",
        "\n",
        "  # 단순 이동평균\n",
        "  df.loc[:, 'SMA_20'] = ta.sma(df['Close'].astype('float'),length=20)\n",
        "  df.loc[:, 'SMA_60'] = ta.sma(df['Close'].astype('float'),length=60)\n",
        "\n",
        "  # 지수 이동평균\n",
        "  df.loc[:, 'EMA_20'] = ta.ema(df['Close'].astype('float'), 20)\n",
        "  df.loc[:, 'EMA_60'] = ta.ema(df['Close'].astype('float'), 60)\n",
        "\n",
        "  # RSI\n",
        "  df.loc[:, 'RSI_14'] = ta.rsi(df['Close'].astype('float'), length=14)\n",
        "  df.loc[:, 'RSI_14'] = df['RSI_14'].fillna(0)\n",
        "  return df\n",
        "\n",
        "def draw_candlechart(df):\n",
        "  df['Change']=df['Close']-df['Open']\n",
        "  df.loc[df['Change']>=0,'Volumecolor']=1\n",
        "  df.loc[df['Change']<0,'Volumecolor']=0\n",
        "  df[['Change','Volumecolor']]\n",
        "  fig = make_subplots(rows=2,\n",
        "                      cols=1,\n",
        "                      shared_xaxes=True,\n",
        "                      )\n",
        "\n",
        "  fig = make_subplots(rows=2, cols=1)\n",
        "\n",
        "  fig.add_trace(\n",
        "      go.Candlestick(x=df.index,\n",
        "                  open=df['Open'],\n",
        "                  high=df['High'],\n",
        "                  low=df['Low'],\n",
        "                  close=df['Close'],\n",
        "                  increasing_line_color= 'red', decreasing_line_color= 'blue',\n",
        "                  name='주가'\n",
        "                  ),\n",
        "                  row=1, col=1\n",
        "  )\n",
        "\n",
        "  fig.add_trace(\n",
        "      go.Bar(x=df.index, y=df['Volume'],\n",
        "            marker=dict(color=df['Volumecolor'],colorscale='BlueRed'),\n",
        "            name='거래량'),\n",
        "      row=2, col=1\n",
        "  )\n",
        "\n",
        "  fig.update(layout_xaxis_rangeslider_visible=False)\n",
        "\n",
        "  fig.show()\n",
        "\n",
        "def draw_sma_ema(name,df):\n",
        "  df = cal_sma_ema_rsi(df)\n",
        "\n",
        "  fig = make_subplots(rows=2,\n",
        "                      cols=1,\n",
        "                      shared_xaxes=True,\n",
        "                      vertical_spacing=0.1)\n",
        "\n",
        "  fig = make_subplots(rows=2, cols=1)\n",
        "\n",
        "  fig.add_trace(\n",
        "      go.Candlestick(x=df.index,\n",
        "                  open=df['Open'],\n",
        "                  high=df['High'],\n",
        "                  low=df['Low'],\n",
        "                  close=df['Close'],\n",
        "                  increasing_line_color= 'red', decreasing_line_color= 'blue',\n",
        "                  name='주가'\n",
        "                  ),\n",
        "                  row=1, col=1\n",
        "  )\n",
        "\n",
        "  fig.add_trace(\n",
        "      go.Scatter(x=df.index, y=df['SMA_20'],\n",
        "                line=dict(color=\"#b66aa0\"),\n",
        "                name='SMA_20'),\n",
        "      row=1, col=1\n",
        "  )\n",
        "\n",
        "  fig.add_trace(\n",
        "      go.Scatter(x=df.index, y=df['SMA_60'],\n",
        "                line=dict(color=\"#414b73\"),\n",
        "                  name='SMA_60'),\n",
        "      row=1, col=1\n",
        "  )\n",
        "\n",
        "  fig.add_trace(\n",
        "      go.Scatter(x=df.index, y=df['EMA_20'],\n",
        "                line=dict(color=\"#8b8b8b\"),\n",
        "                  name='EMA_20'),\n",
        "      row=1, col=1\n",
        "  )\n",
        "\n",
        "\n",
        "  fig.add_trace(\n",
        "      go.Scatter(x=df.index, y=df['EMA_60'],\n",
        "                line=dict(color=\"#e8d887\"),\n",
        "                  name='EMA_60'),\n",
        "      row=1, col=1\n",
        "  )\n",
        "\n",
        "  fig.add_trace(\n",
        "      go.Bar(x=df.index, y=df['Volume'],\n",
        "            marker=dict(color=df['Volumecolor'],colorscale='BlueRed'),\n",
        "            name='거래량'),\n",
        "      row=2, col=1\n",
        "  )\n",
        "\n",
        "  fig.update(layout_xaxis_rangeslider_visible=False)\n",
        "  fig.update_layout(title_text=name)\n",
        "\n",
        "  fig.show()\n",
        "\n",
        "\n",
        "# RSI\n",
        "def draw_rsi(stock_name, stock_data):\n",
        "  fig = plt.subplots(figsize=(10, 6), sharex=True)\n",
        "  gs = gridspec.GridSpec(nrows=2, ncols=1, height_ratios=[2, 1])\n",
        "\n",
        "  # 주가 나타내기\n",
        "  ax1 = plt.subplot(gs[0])\n",
        "  ax1 = stock_data['Close'].plot()\n",
        "  ax1.set_xlabel('')\n",
        "  ax1.axes.xaxis.set_ticks([])\n",
        "  plt.title(stock_name)\n",
        "\n",
        "  # RSI 나타내기\n",
        "  ax2 = plt.subplot(gs[1])\n",
        "  ax2 = stock_data['RSI_14'].plot(color='black', ylim=[0, 100])\n",
        "  ax2.axhline(y=70, color='r', linestyle='-')\n",
        "  ax2.axhline(y=30, color='r', linestyle='-')\n",
        "  ax2.set_xlabel\n",
        "  plt.subplots_adjust(wspace=0, hspace=0)\n",
        "\n",
        "  plt.show()\n",
        "  return stock_data\n",
        "\n",
        "def draw_bbbands(stock_name, stock_data):\n",
        "  band = ta.bbands(stock_data[\"Close\"], length=20, std=2)\n",
        "  bb = pd.concat([band[['BBL_20_2.0', 'BBM_20_2.0', 'BBU_20_2.0']], stock_data['Close']], axis = 1)\n",
        "  bb.columns = ['Lower Band', 'Mid Band', 'Upper Band', 'Close']\n",
        "  bb.plot(figsize=(10, 6),\n",
        "          color={\n",
        "              'Upper Band': 'red',\n",
        "              'Lower Band': 'blue',\n",
        "              'Mid Band': 'green',\n",
        "              'Close': 'black'\n",
        "          })\n",
        "  plt.title(stock_name)\n",
        "  plt.show()"
      ]
    },
    {
      "cell_type": "markdown",
      "metadata": {
        "id": "bi_iJPP78zOH"
      },
      "source": [
        "✅ Top10 종목에 대해 캔들차트 그리기"
      ]
    },
    {
      "cell_type": "code",
      "source": [
        "draw_candlechart(origin_data['123010'])"
      ],
      "metadata": {
        "id": "arWwoSZeSJkt"
      },
      "execution_count": null,
      "outputs": []
    },
    {
      "cell_type": "markdown",
      "source": [
        "- 단순 이동평균(SMA, Simple Moving Average) : 특정 기간 동안의 평균 가격\n",
        "  * SMA 20 : 20일 동안의 단순 이동평균\n",
        "  * SMA 60 : 60일 동안의 단순 이동평균\n",
        "* 지수 이동평균(EMA, Exponential Moving Average) : 가장 최근의 데이터에 높은 가중치를 부여하고, 과거의 데이터에 지수적으로 감소하는 가중치를 부여하여 계산한 평균 가격\n",
        "  * EMA 20 : 20일 동안의 지수 이동평균\n",
        "  * EMA 60 : 60일 동안의 지수 이동평균\n",
        "\n",
        "\n",
        "\n",
        "\n",
        "---\n",
        "❗20일 동안의 이동평균선이 60일 동안의 이동평균선 상향 돌파 시 ▶ 골든크로스 📈 매수시점\n",
        "\n",
        "❗20일 동안의 이동평균선이 60일 동안의 이동평균선 하향 돌파 시 ▶ 데드크로스 📉 매도시점"
      ],
      "metadata": {
        "id": "MOMx2tkJSVHf"
      }
    },
    {
      "cell_type": "markdown",
      "source": [
        "✅ 전체 확인"
      ],
      "metadata": {
        "id": "tqUuBMAvg0tX"
      }
    },
    {
      "cell_type": "code",
      "execution_count": null,
      "metadata": {
        "id": "Djxce3rPrb5r"
      },
      "outputs": [],
      "source": [
        "draw_sma_ema(name,('123010'))"
      ]
    },
    {
      "cell_type": "markdown",
      "source": [
        "✅ 올해만 확인"
      ],
      "metadata": {
        "id": "4RrAlnr_g4-k"
      }
    },
    {
      "cell_type": "code",
      "execution_count": null,
      "metadata": {
        "id": "49EMn2L1BZdK"
      },
      "outputs": [],
      "source": [
        "name = '자람테크놀로지'\n",
        "draw_sma_ema(name,match_dfshape(origin_data['123010'],'2024-01','2024-03'))"
      ]
    },
    {
      "cell_type": "markdown",
      "source": [
        "* 상대강도지수(RSI,Relative Strength Index)\n",
        "  * 가격의 상승과 하락 추세를 측정하는 데 사용되는 기술적 지표\n",
        "  * 가격 상승 폭과 하락 폭을 비교하여 주가의 상대적 강도를 측정\n",
        "\n",
        "  * 과매수 및 과매도 상태 감지\n",
        "\n",
        "  ⏩  과매도 상태 시 📈 매수신호\n",
        "  \n",
        "  ⏩  과매수 상태 시 📉 매도신호\n",
        "\n",
        "\n",
        "\n",
        "---\n",
        "\n",
        "\n",
        "* 볼린저 밴드(Bollinger Bands)\n",
        "  * 주가의 변동성과 가격의 상대적 위치를 판단하는 데 사용되는 기술적 지표\n",
        "  * 중심선, 상단 밴드, 하단 밴드로 구성\n",
        "\n",
        "  ⏩  상단 밴드 위로 올라가면 📈 매수신호\n",
        "  \n",
        "  ⏩  하단 밴드 아래로 내려가면 📉 매도신호"
      ],
      "metadata": {
        "id": "hMYllAS6R1uy"
      }
    },
    {
      "cell_type": "code",
      "source": [
        "draw_bbbands(name,draw_rsi(name,match_dfshape(origin_data['123010'],'2024-01','2024-03')))"
      ],
      "metadata": {
        "id": "f9i934B24D65"
      },
      "execution_count": null,
      "outputs": []
    },
    {
      "cell_type": "code",
      "source": [
        "draw_bbbands(name,draw_rsi(name,origin_data['123010']))"
      ],
      "metadata": {
        "id": "_UVN2NFihlMz"
      },
      "execution_count": null,
      "outputs": []
    },
    {
      "cell_type": "code",
      "execution_count": null,
      "metadata": {
        "id": "KaNbSSLmM7Ik"
      },
      "outputs": [],
      "source": []
    }
  ],
  "metadata": {
    "colab": {
      "provenance": [],
      "include_colab_link": true
    },
    "kernelspec": {
      "display_name": "Python 3",
      "name": "python3"
    },
    "language_info": {
      "name": "python"
    }
  },
  "nbformat": 4,
  "nbformat_minor": 0
}